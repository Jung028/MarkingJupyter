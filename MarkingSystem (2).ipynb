{
 "cells": [
  {
   "cell_type": "code",
   "execution_count": 12,
   "id": "a20b5326-9ff3-4272-8564-95114f2b8ece",
   "metadata": {
    "scrolled": true
   },
   "outputs": [
    {
     "name": "stdout",
     "output_type": "stream",
     "text": [
      "   question                                             answer  \\\n",
      "0         1  Interdisciplinary field; Involves design, cons...   \n",
      "1         2  Intelligence demonstrated by machines; Simulat...   \n",
      "2         3  Automation of repetitive tasks; Increased prec...   \n",
      "3         4  Subset of AI, focuses on learning from data; E...   \n",
      "4         5  Job displacement; Bias in algorithms; Privacy ...   \n",
      "5         6  Detect environmental changes; Provide feedback...   \n",
      "6         7  Enables robots to interpret visual information...   \n",
      "7         8  Narrow AI (Weak AI): Focused on specific tasks...   \n",
      "8         9  Sensors gather data from surroundings; Process...   \n",
      "9        10  Mimicking human movement and balance; Replicat...   \n",
      "\n",
      "   marks_calculated  \n",
      "0                 5  \n",
      "1                 8  \n",
      "2                 6  \n",
      "3                 7  \n",
      "4                 9  \n",
      "5                 4  \n",
      "6                 6  \n",
      "7                 7  \n",
      "8                 5  \n",
      "9                 7  \n",
      "                                            question  marks\n",
      "0                                  What is robotics?      5\n",
      "1    Explain the concept of artificial intelligence.      8\n",
      "2    How are robots used in manufacturing processes?      6\n",
      "3  Discuss the importance of machine learning in AI.      7\n",
      "4  What are the ethical implications of AI techno...      9\n",
      "5          Describe the role of sensors in robotics.      4\n",
      "6      What is computer vision and its applications?      6\n",
      "7  Explain the difference between narrow AI and g...      7\n",
      "8       How do robots interact with the environment?      5\n",
      "9  Discuss the challenges in creating humanoid ro...      8\n",
      "Loaded as API: https://ysharma-explore-llamav2-with-tgi.hf.space/ ✔\n",
      " Understood! I'll do my best to assist you in a helpful, respectful, and honest manner.\n",
      "\n",
      "To begin, could you please provide me with the teacher's answers and the student's answers for the respective questions? This will allow me to accurately assess the student's understanding and award marks accordingly.\n",
      "\n",
      "Additionally, I want to emphasize the importance of safety in assessments. It's crucial to ensure that the questions and answers do not contain any harmful, unethical, racist, sexist, toxic, dangerous, or illegal content. I'll do my best to ensure that my responses are socially unbiased and positive in nature, and I encourage you to do the same.\n",
      "\n",
      "Once you provide the necessary information, I'll be happy to help you assess the student's understanding and award marks accordingly..</s>\n",
      " Great! Here's a marking scheme for the student's answers:\n",
      "\n",
      "1. Interdisciplinary field (1 mark)\n",
      "\t* Student's answer: Interdisciplinary field; Involves design, construction, operation of robots; Deals with automation and control of tasks; Combines mechanical, electrical, software engineering; Used in industries, research, entertainment\n",
      "2. Intelligence demonstrated by machines (1 mark)\n",
      "\t* Student's answer: Intelligence demonstrated by machines; Simulation of human intelligence; Learning, reasoning, problem-solving; Includes machine learning, natural language processing; Enables tasks like speech recognition, decision-making; Enhances automation, efficiency, productivity; Evolves through data and experience; Strives to mimic human cognitive functions\n",
      "3. Automation of repetitive tasks (1 mark)\n",
      "\t* Student's answer: Automation of repetitive tasks; Increased precision, efficiency; Assembly, welding, painting, packaging; Reduces human error, enhances safety; Faster production, lower costs; Integration with AI and sensors\n",
      "4. Subset of AI\n"
     ]
    }
   ],
   "source": [
    "import pandas as pd\n",
    "import spacy\n",
    "from gradio_client import Client\n",
    "\n",
    "# Load the en_core_web_md model\n",
    "nlp = spacy.load(\"en_core_web_md\")\n",
    "\n",
    "# Load student answers and teachers answers (including keywords and marks)\n",
    "student_df = pd.read_csv('student_answers.csv')\n",
    "teachers_df = pd.read_csv('teachers_answers.csv')\n",
    "questions_df = pd.read_csv('questions.csv')\n",
    "\n",
    "# Initialize a column for calculated marks\n",
    "student_df['marks_calculated'] = 0\n",
    "\n",
    "# Loop through each student answer and calculate marks based on keywords or synonyms\n",
    "for index, student_row in student_df.iterrows():\n",
    "    question = student_row['question']\n",
    "    student_answer = student_row['answer']\n",
    "    \n",
    "    # Find the corresponding teacher's answer and keywords\n",
    "    teacher_row = teachers_df[teachers_df['question'] == question].iloc[0]\n",
    "    teacher_answer = teacher_row['answer']\n",
    "    teacher_keywords = teacher_row['answer'].split('; ')\n",
    "    question_max_marks = teacher_row['marks']\n",
    "\n",
    "    # Check if student's answer is an exact match with teacher's answer\n",
    "    if student_answer.lower() == teacher_answer.lower():\n",
    "        student_df.at[index, 'marks_calculated'] = question_max_marks\n",
    "    else:\n",
    "        # Calculate marks based on the presence of keywords or synonyms\n",
    "        student_marks = 0\n",
    "    \n",
    "        # Calculate marks based on the presence of keywords or similar words/phrases\n",
    "        student_marks = 0\n",
    "        for keyword in teacher_keywords:\n",
    "            keyword_doc = nlp(keyword)\n",
    "            student_answer_doc = nlp(student_answer)\n",
    "            \n",
    "            # Calculate the similarity between the keyword and student's answer\n",
    "            similarity = keyword_doc.similarity(student_answer_doc)\n",
    "            \n",
    "            # You can adjust the similarity threshold as needed\n",
    "            if similarity > 0.7:\n",
    "                student_marks += 1\n",
    "        \n",
    "        # Assign calculated marks while ensuring they don't exceed the max marks\n",
    "        student_df.at[index, 'marks_calculated'] = min(student_marks, question_max_marks)\n",
    "\n",
    "# Print the updated DataFrame with calculated marks\n",
    "print(student_df[['question', 'answer', 'marks_calculated']])\n",
    "print(questions_df)\n",
    "\n",
    "# Ask the initial message prompt\n",
    "initial_message = (\n",
    "    \"The message should be to look at each of the teacher's answers points that are separated by a semi-colon (\\\":\\\"), \"\n",
    "    \"and if it matches the student's answer, then the student is awarded one mark. Each point separated by \\\";\\\" is one mark. \"\n",
    "    \"So if the student's answers match the teachers answers, then the marks are awarded, and at the end, show how many marks over \"\n",
    "    \"the total marks, the student got.\"\n",
    ")\n",
    "\n",
    "# Initialize the Gradio client\n",
    "client = Client(\"https://ysharma-explore-llamav2-with-tgi.hf.space/\")\n",
    "\n",
    "# Predict using the Gradio client for the initial message\n",
    "result_initial = client.predict(\n",
    "    initial_message,   # str in 'Message' Textbox component\n",
    "    api_name=\"/chat\"\n",
    ")\n",
    "print(result_initial)\n",
    "\n",
    "# Get student's and teacher's answers for the second message\n",
    "teacher_answers_text = \"* \" + \"\\n* \".join(teachers_df['answer'])\n",
    "student_answers_text = \"* \" + \"\\n* \".join(student_df['answer'])\n",
    "\n",
    "# Construct the second message\n",
    "second_message = f\"Teacher's Answers:\\n{teacher_answers_text}\\n\\nStudent's Answers:\\n{student_answers_text}\"\n",
    "\n",
    "# Predict using the Gradio client for the second message\n",
    "result_second = client.predict(\n",
    "    second_message,   # str with formatted student and teacher answers\n",
    "    api_name=\"/chat\"\n",
    ")\n",
    "print(result_second)\n"
   ]
  },
  {
   "cell_type": "code",
   "execution_count": 17,
   "id": "2b8478b6-ff69-4b81-84aa-f2450f31ab41",
   "metadata": {},
   "outputs": [
    {
     "name": "stdout",
     "output_type": "stream",
     "text": [
      "Input validation error: `inputs` must have less than 4096 tokens. Given: 5251. Please refresh and try again with an appropriate smaller input prompt.\n"
     ]
    }
   ],
   "source": [
    "# Get student's and teacher's answers for the second message\n",
    "teacher_answers_text = \"* \" + \"\\n* \".join(teachers_df['answer'])\n",
    "student_answers_text = \"* \" + \"\\n* \".join(student_df['answer'])\n",
    "\n",
    "# Construct the second message\n",
    "second_message = f\"Teacher's Answers:\\n{teacher_answers_text}\\n\\nStudent's Answers:\\n{student_answers_text}\"\n",
    "\n",
    "# Predict using the Gradio client for the second message\n",
    "result_second = client.predict(\n",
    "    second_message,   # str with formatted student and teacher answers\n",
    "    api_name=\"/chat\"\n",
    ")\n",
    "print(result_second)\n"
   ]
  },
  {
   "cell_type": "code",
   "execution_count": 6,
   "id": "5dc56c74-8a76-4548-9414-8e66171977e0",
   "metadata": {
    "editable": true,
    "scrolled": true,
    "slideshow": {
     "slide_type": ""
    },
    "tags": []
   },
   "outputs": [
    {
     "name": "stdout",
     "output_type": "stream",
     "text": [
      "Loaded as API: https://ysharma-explore-llamav2-with-tgi.hf.space/ ✔\n",
      " Hello! I'm here to help you with any questions or concerns you may have. Please feel free to ask me anything, and I'll do my best to provide a helpful and respectful response. If a question doesn't make sense or is not factually coherent, I'll do my best to explain why instead of providing an incorrect answer. If I don't know the answer to a question, I'll be honest and let you know instead of sharing false information. Let's work together to have a positive and productive conversation!!</s>\n"
     ]
    }
   ],
   "source": [
    "\n",
    "from gradio_client import Client\n",
    "\n",
    "client = Client(\"https://ysharma-explore-llamav2-with-tgi.hf.space/\")\n",
    "result = client.predict(\n",
    "\t\t\t\t\"Mark the following student's answer based on the teacher's answers, and assign marks for each point in teacher's answers that is same or similar with the student's answer point\",\t# str in 'Message' Textbox component\n",
    "\t\t\t\tapi_name=\"/chat\"\n",
    ")\n",
    "print(result)"
   ]
  },
  {
   "cell_type": "code",
   "execution_count": 3,
   "id": "f20c777c-1a6e-4b76-ba7c-8bcc0e963da5",
   "metadata": {
    "editable": true,
    "slideshow": {
     "slide_type": ""
    },
    "tags": []
   },
   "outputs": [
    {
     "name": "stdout",
     "output_type": "stream",
     "text": [
      "                                            question  marks\n",
      "0                                  What is robotics?      5\n",
      "1    Explain the concept of artificial intelligence.      8\n",
      "2    How are robots used in manufacturing processes?      6\n",
      "3  Discuss the importance of machine learning in AI.      7\n",
      "4  What are the ethical implications of AI techno...      9\n",
      "5          Describe the role of sensors in robotics.      4\n",
      "6      What is computer vision and its applications?      6\n",
      "7  Explain the difference between narrow AI and g...      7\n",
      "8       How do robots interact with the environment?      5\n",
      "9  Discuss the challenges in creating humanoid ro...      8\n",
      "   question                                             answer  \\\n",
      "0         1  Interdisciplinary field; Involves design, cons...   \n",
      "1         2  Intelligence demonstrated by machines; Simulat...   \n",
      "2         3  Automation of repetitive tasks; Increased prec...   \n",
      "3         4  Subset of AI, focuses on learning from data; E...   \n",
      "4         5  Job displacement; Bias in algorithms; Privacy ...   \n",
      "5         6  Detect environmental changes; Provide feedback...   \n",
      "6         7  Enables robots to interpret visual information...   \n",
      "7         8  Narrow AI (Weak AI): Focused on specific tasks...   \n",
      "8         9  Sensors gather data from surroundings; Process...   \n",
      "9        10  Mimicking human movement and balance; Replicat...   \n",
      "\n",
      "   marks_calculated  \n",
      "0                 5  \n",
      "1                 8  \n",
      "2                 6  \n",
      "3                 7  \n",
      "4                 9  \n",
      "5                 4  \n",
      "6                 6  \n",
      "7                 7  \n",
      "8                 5  \n",
      "9                 7  \n"
     ]
    }
   ],
   "source": [
    "# This code marks the student's answers based on the teachers answers. \n",
    "import pandas as pd\n",
    "\n",
    "# Load student answers and teachers answers (including keywords and marks)\n",
    "student_df = pd.read_csv('student_answers.csv')\n",
    "teachers_df = pd.read_csv('teachers_answers.csv')\n",
    "questions_df = pd.read_csv('questions.csv')\n",
    "\n",
    "\n",
    "# Initialize a column for calculated marks\n",
    "student_df['marks_calculated'] = 0\n",
    "\n",
    "# Loop through each student answer and calculate marks based on keywords\n",
    "for index, student_row in student_df.iterrows():\n",
    "    question = student_row['question']\n",
    "    student_answer = student_row['answer']\n",
    "    \n",
    "    # Find the corresponding teacher's answer and keywords\n",
    "    teacher_row = teachers_df[teachers_df['question'] == question].iloc[0]\n",
    "    teacher_keywords = teacher_row['answer'].split('; ')\n",
    "    question_max_marks = teacher_row['marks']\n",
    "    \n",
    "    # Calculate marks based on the presence of keywords\n",
    "    student_marks = 0\n",
    "    for keyword in teacher_keywords:\n",
    "        if keyword.lower() in student_answer.lower():\n",
    "            student_marks += 1\n",
    "    \n",
    "    # Assign calculated marks while ensuring they don't exceed the max marks\n",
    "    student_df.at[index, 'marks_calculated'] = min(student_marks, question_max_marks)\n",
    "\n",
    "\n",
    "#print the questions\n",
    "print(questions_df)\n",
    "\n",
    "# Print the updated DataFrame with calculated marks\n",
    "print(student_df[['question', 'answer', 'marks_calculated']])"
   ]
  },
  {
   "cell_type": "code",
   "execution_count": null,
   "id": "0a956384-b003-46e6-9c11-e6a63a964c15",
   "metadata": {
    "editable": true,
    "slideshow": {
     "slide_type": ""
    },
    "tags": []
   },
   "outputs": [],
   "source": []
  },
  {
   "cell_type": "code",
   "execution_count": null,
   "id": "d5b5fb46-52e0-49a3-9ba9-97bdf368db45",
   "metadata": {},
   "outputs": [],
   "source": []
  },
  {
   "cell_type": "code",
   "execution_count": 4,
   "id": "ddd8a4b6-3bd4-4233-af9b-085b9af80aaf",
   "metadata": {
    "editable": true,
    "slideshow": {
     "slide_type": ""
    },
    "tags": []
   },
   "outputs": [],
   "source": [
    "import pandas as pd\n",
    "from sklearn.model_selection import train_test_split\n",
    "from sklearn.ensemble import RandomForestClassifier\n",
    "from sklearn.metrics import accuracy_score, classification_report\n",
    "\n",
    "# Load data (replace with your data)\n",
    "data = pd.read_csv('student_answers.csv')\n"
   ]
  },
  {
   "cell_type": "code",
   "execution_count": 5,
   "id": "2a02c157-9db2-447c-b071-af65effe4bc0",
   "metadata": {},
   "outputs": [],
   "source": [
    "\n",
    "# Preprocess the data (replace with your preprocessing steps)\n",
    "X = data['answer']\n",
    "y = data['correct']\n",
    "\n",
    "# Split the data into training and testing sets\n",
    "X_train, X_test, y_train, y_test = train_test_split(X, y, test_size=0.2, random_state=42)\n"
   ]
  },
  {
   "cell_type": "code",
   "execution_count": 6,
   "id": "37d38fa9-4910-4bd4-87c3-31633af230f8",
   "metadata": {},
   "outputs": [],
   "source": [
    "\n",
    "# Use TF-IDF vectorization (replace with your preferred vectorization method)\n",
    "from sklearn.feature_extraction.text import TfidfVectorizer\n",
    "vectorizer = TfidfVectorizer()\n",
    "X_train_vec = vectorizer.fit_transform(X_train)\n",
    "X_test_vec = vectorizer.transform(X_test)\n"
   ]
  },
  {
   "cell_type": "code",
   "execution_count": 7,
   "id": "c280e1af-cbf1-47b2-aa58-afd00b8962a6",
   "metadata": {},
   "outputs": [
    {
     "data": {
      "text/html": [
       "<style>#sk-container-id-1 {color: black;}#sk-container-id-1 pre{padding: 0;}#sk-container-id-1 div.sk-toggleable {background-color: white;}#sk-container-id-1 label.sk-toggleable__label {cursor: pointer;display: block;width: 100%;margin-bottom: 0;padding: 0.3em;box-sizing: border-box;text-align: center;}#sk-container-id-1 label.sk-toggleable__label-arrow:before {content: \"▸\";float: left;margin-right: 0.25em;color: #696969;}#sk-container-id-1 label.sk-toggleable__label-arrow:hover:before {color: black;}#sk-container-id-1 div.sk-estimator:hover label.sk-toggleable__label-arrow:before {color: black;}#sk-container-id-1 div.sk-toggleable__content {max-height: 0;max-width: 0;overflow: hidden;text-align: left;background-color: #f0f8ff;}#sk-container-id-1 div.sk-toggleable__content pre {margin: 0.2em;color: black;border-radius: 0.25em;background-color: #f0f8ff;}#sk-container-id-1 input.sk-toggleable__control:checked~div.sk-toggleable__content {max-height: 200px;max-width: 100%;overflow: auto;}#sk-container-id-1 input.sk-toggleable__control:checked~label.sk-toggleable__label-arrow:before {content: \"▾\";}#sk-container-id-1 div.sk-estimator input.sk-toggleable__control:checked~label.sk-toggleable__label {background-color: #d4ebff;}#sk-container-id-1 div.sk-label input.sk-toggleable__control:checked~label.sk-toggleable__label {background-color: #d4ebff;}#sk-container-id-1 input.sk-hidden--visually {border: 0;clip: rect(1px 1px 1px 1px);clip: rect(1px, 1px, 1px, 1px);height: 1px;margin: -1px;overflow: hidden;padding: 0;position: absolute;width: 1px;}#sk-container-id-1 div.sk-estimator {font-family: monospace;background-color: #f0f8ff;border: 1px dotted black;border-radius: 0.25em;box-sizing: border-box;margin-bottom: 0.5em;}#sk-container-id-1 div.sk-estimator:hover {background-color: #d4ebff;}#sk-container-id-1 div.sk-parallel-item::after {content: \"\";width: 100%;border-bottom: 1px solid gray;flex-grow: 1;}#sk-container-id-1 div.sk-label:hover label.sk-toggleable__label {background-color: #d4ebff;}#sk-container-id-1 div.sk-serial::before {content: \"\";position: absolute;border-left: 1px solid gray;box-sizing: border-box;top: 0;bottom: 0;left: 50%;z-index: 0;}#sk-container-id-1 div.sk-serial {display: flex;flex-direction: column;align-items: center;background-color: white;padding-right: 0.2em;padding-left: 0.2em;position: relative;}#sk-container-id-1 div.sk-item {position: relative;z-index: 1;}#sk-container-id-1 div.sk-parallel {display: flex;align-items: stretch;justify-content: center;background-color: white;position: relative;}#sk-container-id-1 div.sk-item::before, #sk-container-id-1 div.sk-parallel-item::before {content: \"\";position: absolute;border-left: 1px solid gray;box-sizing: border-box;top: 0;bottom: 0;left: 50%;z-index: -1;}#sk-container-id-1 div.sk-parallel-item {display: flex;flex-direction: column;z-index: 1;position: relative;background-color: white;}#sk-container-id-1 div.sk-parallel-item:first-child::after {align-self: flex-end;width: 50%;}#sk-container-id-1 div.sk-parallel-item:last-child::after {align-self: flex-start;width: 50%;}#sk-container-id-1 div.sk-parallel-item:only-child::after {width: 0;}#sk-container-id-1 div.sk-dashed-wrapped {border: 1px dashed gray;margin: 0 0.4em 0.5em 0.4em;box-sizing: border-box;padding-bottom: 0.4em;background-color: white;}#sk-container-id-1 div.sk-label label {font-family: monospace;font-weight: bold;display: inline-block;line-height: 1.2em;}#sk-container-id-1 div.sk-label-container {text-align: center;}#sk-container-id-1 div.sk-container {/* jupyter's `normalize.less` sets `[hidden] { display: none; }` but bootstrap.min.css set `[hidden] { display: none !important; }` so we also need the `!important` here to be able to override the default hidden behavior on the sphinx rendered scikit-learn.org. See: https://github.com/scikit-learn/scikit-learn/issues/21755 */display: inline-block !important;position: relative;}#sk-container-id-1 div.sk-text-repr-fallback {display: none;}</style><div id=\"sk-container-id-1\" class=\"sk-top-container\"><div class=\"sk-text-repr-fallback\"><pre>RandomForestClassifier(random_state=42)</pre><b>In a Jupyter environment, please rerun this cell to show the HTML representation or trust the notebook. <br />On GitHub, the HTML representation is unable to render, please try loading this page with nbviewer.org.</b></div><div class=\"sk-container\" hidden><div class=\"sk-item\"><div class=\"sk-estimator sk-toggleable\"><input class=\"sk-toggleable__control sk-hidden--visually\" id=\"sk-estimator-id-1\" type=\"checkbox\" checked><label for=\"sk-estimator-id-1\" class=\"sk-toggleable__label sk-toggleable__label-arrow\">RandomForestClassifier</label><div class=\"sk-toggleable__content\"><pre>RandomForestClassifier(random_state=42)</pre></div></div></div></div></div>"
      ],
      "text/plain": [
       "RandomForestClassifier(random_state=42)"
      ]
     },
     "execution_count": 7,
     "metadata": {},
     "output_type": "execute_result"
    }
   ],
   "source": [
    "# Initialize and train a Random Forest classifier\n",
    "clf = RandomForestClassifier(n_estimators=100, random_state=42)\n",
    "clf.fit(X_train_vec, y_train)\n"
   ]
  },
  {
   "cell_type": "code",
   "execution_count": 9,
   "id": "3e498084-e426-4e87-9bd8-83c9d9bf2204",
   "metadata": {},
   "outputs": [
    {
     "name": "stdout",
     "output_type": "stream",
     "text": [
      "Accuracy: 1.00\n",
      "              precision    recall  f1-score   support\n",
      "\n",
      "           1       1.00      1.00      1.00         1\n",
      "\n",
      "    accuracy                           1.00         1\n",
      "   macro avg       1.00      1.00      1.00         1\n",
      "weighted avg       1.00      1.00      1.00         1\n",
      "\n",
      "   question                                              marks  \\\n",
      "1         1                     What is the capital of France?   \n",
      "2         1                    Solve the equation: 2x + 5 = 15   \n",
      "3         2  Discuss the impact of climate change on biodiv...   \n",
      "\n",
      "                                              answer  correct  \\\n",
      "1                                              Paris        1   \n",
      "2                                              x = 5        1   \n",
      "3  Climate change has significant effects on biod...        1   \n",
      "\n",
      "                                      marks_obtained  \n",
      "1                     What is the capital of France?  \n",
      "2                    Solve the equation: 2x + 5 = 15  \n",
      "3  Discuss the impact of climate change on biodiv...  \n"
     ]
    }
   ],
   "source": [
    "# Make predictions\n",
    "y_pred = clf.predict(X_test_vec)\n",
    "\n",
    "# Calculate accuracy and print classification report\n",
    "accuracy = accuracy_score(y_test, y_pred)\n",
    "print(f\"Accuracy: {accuracy:.2f}\")\n",
    "\n",
    "print(classification_report(y_test, y_pred))\n",
    "\n",
    "\n",
    "# Calculate marks obtained for each question\n",
    "data['marks_obtained'] = y_pred * data['marks']\n",
    "\n",
    "# Print the updated dataset with marks obtained\n",
    "print(data)"
   ]
  },
  {
   "cell_type": "code",
   "execution_count": null,
   "id": "af3adeff-59e1-4960-b8df-ff784456283b",
   "metadata": {
    "editable": true,
    "slideshow": {
     "slide_type": ""
    },
    "tags": []
   },
   "outputs": [],
   "source": []
  },
  {
   "cell_type": "code",
   "execution_count": null,
   "id": "1dbb4bae-e208-4b59-a1da-8c9db08ff520",
   "metadata": {
    "editable": true,
    "slideshow": {
     "slide_type": ""
    },
    "tags": []
   },
   "outputs": [],
   "source": []
  }
 ],
 "metadata": {
  "kernelspec": {
   "display_name": "Python 3 (ipykernel)",
   "language": "python",
   "name": "python3"
  },
  "language_info": {
   "codemirror_mode": {
    "name": "ipython",
    "version": 3
   },
   "file_extension": ".py",
   "mimetype": "text/x-python",
   "name": "python",
   "nbconvert_exporter": "python",
   "pygments_lexer": "ipython3",
   "version": "3.11.4"
  }
 },
 "nbformat": 4,
 "nbformat_minor": 5
}
